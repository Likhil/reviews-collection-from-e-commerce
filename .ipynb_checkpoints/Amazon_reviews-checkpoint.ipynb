{
 "cells": [
  {
   "cell_type": "markdown",
   "metadata": {},
   "source": [
    "Team members:\n",
    "\n",
    "Shyam Prasad Sukumar (ss4978) \n",
    "\n",
    "Likhil Kumar Rachuri(lkr46)\n",
    "\n",
    "Anandhi Solaimuthu(as5326) "
   ]
  },
  {
   "cell_type": "code",
   "execution_count": 3,
   "metadata": {},
   "outputs": [
    {
     "name": "stdout",
     "output_type": "stream",
     "text": [
      "{'Apple': '/apple-mobile-price-list-in-india',\n",
      " 'Asus': '/asus-mobile-price-list-in-india',\n",
      " 'Honor': '/honor-mobile-price-list-in-india',\n",
      " 'Huawei': '/huawei-mobile-price-list-in-india',\n",
      " 'Lenovo': '/lenovo-mobile-price-list-in-india',\n",
      " 'Micromax': '/micromax-mobile-price-list-in-india',\n",
      " 'Moto': '/moto-mobile-price-list-in-india',\n",
      " 'Nokia': '/nokia-mobile-price-list-in-india',\n",
      " 'OPPO': '/oppo-mobile-price-list-in-india',\n",
      " 'OnePlus': '/oneplus-mobile-price-list-in-india',\n",
      " 'Realme': '/realme-mobile-price-list-in-india',\n",
      " 'Reliance': '/reliance-mobile-price-list-in-india',\n",
      " 'Samsung': '/samsung-mobile-price-list-in-india',\n",
      " 'Sony': '/sony-mobile-price-list-in-india',\n",
      " 'Tecno': '/tecno-mobile-price-list-in-india',\n",
      " 'Vivo': '/vivo-mobile-price-list-in-india',\n",
      " 'Xiaomi': '/xiaomi-mobile-price-list-in-india'}\n"
     ]
    }
   ],
   "source": [
    "#extracting products from 91 mobiles and reviews corresponding to amazon.in\n",
    "#importing packages\n",
    "from pprint import pprint\n",
    "import bs4\n",
    "from urllib.request import urlopen as uReq\n",
    "from bs4 import BeautifulSoup as soup\n",
    "#url for 91 mobiles to get the brands\n",
    "url=\"https://www.91mobiles.com/mobile-phones\"\n",
    "uClient = uReq(url)\n",
    "#reading the information from the page\n",
    "page_html1 = uClient.read()\n",
    "uClient.close()\n",
    "page_soup1 = soup (page_html1,\"html.parser\")\n",
    "#finding a tags where links are present for individual brands\n",
    "link=page_soup1.find_all('div',class_=\"mobile_rivew with_bg widget\")[1]\n",
    "brands={}\n",
    "#storing brand name and their links in a dictionary\n",
    "for i in link.find_all('a',href=True):\n",
    "    try:\n",
    "        name=i[\"title\"]\n",
    "        link=i[\"href\"]\n",
    "    except KeyError:\n",
    "        continue\n",
    "    brands[name]=link\n",
    "pprint(brands)\n"
   ]
  },
  {
   "cell_type": "code",
   "execution_count": 10,
   "metadata": {},
   "outputs": [],
   "source": [
    "#home page url assigning to a variable\n",
    "url=\"https://www.91mobiles.com\""
   ]
  },
  {
   "cell_type": "code",
   "execution_count": 11,
   "metadata": {},
   "outputs": [
    {
     "name": "stderr",
     "output_type": "stream",
     "text": [
      "Some characters could not be decoded, and were replaced with REPLACEMENT CHARACTER.\n"
     ]
    }
   ],
   "source": [
    "#opening and extracting mobiles link for respective brands\n",
    "import bs4\n",
    "from urllib.request import urlopen as uReq\n",
    "from bs4 import BeautifulSoup as soup\n",
    "store1={}\n",
    "for i in brands:\n",
    "    #adding the brand link to home page url\n",
    "    new_url=url+brands[i]\n",
    "    uClient = uReq(new_url)\n",
    "    #reading page information\n",
    "    page_html = uClient.read()\n",
    "    uClient.close()\n",
    "    page_soup = soup(page_html,\"html.parser\")\n",
    "    #finding a tags where mobile and their links are available\n",
    "    further = page_soup.find_all(\"a\", class_=\"hover_blue_link name gaclick\")\n",
    "\n",
    "    #storing all the phones with their link to corresponding name\n",
    "    for i in further:\n",
    "        link=i['href']\n",
    "        name=i['title']\n",
    "        store1[name]=link\n",
    "\n",
    "\n",
    "\n"
   ]
  },
  {
   "cell_type": "code",
   "execution_count": 67,
   "metadata": {
    "scrolled": true
   },
   "outputs": [
    {
     "name": "stdout",
     "output_type": "stream",
     "text": [
      "{'Xiaomi Redmi Note 8 Pro': '/xiaomi-redmi-note-8-pro-price-in-india', 'Xiaomi Redmi Note 8': '/xiaomi-redmi-note-8-price-in-india', 'Xiaomi Redmi Note 7 Pro': '/xiaomi-redmi-note-7-pro-price-in-india', 'Xiaomi Redmi 8A': '/xiaomi-redmi-8a-price-in-india', 'Xiaomi Mi A3': '/xiaomi-mi-a3-price-in-india', 'Xiaomi Redmi 7': '/xiaomi-redmi-7-price-in-india', 'Xiaomi Redmi 7A': '/xiaomi-redmi-7a-price-in-india', 'Xiaomi Redmi K20 Pro': '/xiaomi-redmi-k20-pro-price-in-india', 'Xiaomi Redmi Note 7S': '/xiaomi-redmi-note-7s-price-in-india', 'Xiaomi Redmi Y3': '/xiaomi-redmi-y3-price-in-india', 'Samsung Galaxy M30s': '/samsung-galaxy-m30s-price-in-india', 'Samsung Galaxy A50s': '/samsung-galaxy-a50s-price-in-india', 'Samsung Galaxy A50': '/samsung-galaxy-a50-price-in-india', 'Samsung Galaxy M10s': '/samsung-galaxy-m10s-price-in-india', 'Samsung Galaxy M30': '/samsung-galaxy-m30-price-in-india', 'Samsung Galaxy Fold': '/samsung-galaxy-fold-price-in-india', 'Samsung Galaxy M30s 128GB': '/samsung-galaxy-m30s-128gb-price-in-india', 'Samsung Galaxy A70': '/samsung-galaxy-a70-price-in-india', 'Samsung Galaxy A30': '/samsung-galaxy-a30-price-in-india', 'Samsung Galaxy M40': '/samsung-galaxy-m40-price-in-india', 'Realme 5s': '/realme-5s-price-in-india', 'Realme X2 Pro': '/realme-x2-pro-price-in-india', 'Realme XT': '/realme-xt-price-in-india', 'Realme 5': '/realme-5-price-in-india', 'Realme 3 Pro': '/realme-3-pro-price-in-india', 'Realme 5 Pro': '/realme-5-pro-price-in-india', 'Realme X': '/realme-x-price-in-india', 'Realme C2': '/realme-c2-price-in-india', 'Realme 3i': '/realme-3i-price-in-india', 'Realme 3': '/realme-3-price-in-india', 'Vivo U20': '/vivo-u20-price-in-india', 'Vivo Z1 Pro': '/vivo-z1-pro-price-in-india', 'Vivo U10': '/vivo-u10-price-in-india', 'Vivo V17 Pro': '/vivo-v17-pro-price-in-india', 'Vivo V15': '/vivo-v15-price-in-india', 'Vivo S1': '/vivo-s1-price-in-india', 'Vivo V15 Pro': '/vivo-v15-pro-price-in-india', 'Vivo Y15 2019': '/vivo-y15-2019-price-in-india', 'Vivo Y17': '/vivo-y17-price-in-india', 'Vivo Y90': '/vivo-y90-price-in-india', 'OPPO F11 Pro': '/oppo-f11-pro-price-in-india', 'OPPO A5s': '/oppo-a5s-price-in-india', 'OPPO Reno 2': '/oppo-reno-2-price-in-india', 'OPPO A5 2020': '/oppo-a5-2020-price-in-india', 'OPPO A9 2020': '/oppo-a9-2020-price-in-india', 'OPPO F11': '/oppo-f11-price-in-india', 'OPPO Reno 2F': '/oppo-reno-2f-price-in-india', 'OPPO K1': '/oppo-k1-price-in-india', 'OPPO A3s': '/oppo-a3s-price-in-india', 'OPPO K3': '/oppo-k3-price-in-india', 'Apple iPhone 11': '/apple-iphone-xi-price-in-india', 'Apple iPhone XR': '/apple-iphone-xr-price-in-india', 'Apple iPhone 7 Plus': '/apple-iphone-7-plus-price-in-india', 'Apple iPhone 7': '/apple-iphone-7-price-in-india', 'Apple iPhone 11 Pro Max': '/apple-iphone-11-pro-max-price-in-india', 'Apple iPhone X': '/apple-iphone-x-price-in-india', 'Apple iPhone 11 Pro': '/apple-iphone-11-pro-price-in-india', 'Apple iPhone 8 Plus': '/apple-iphone-8-plus-price-in-india', 'Apple iPhone 6s 32GB': '/apple-iphone-6s-32gb-price-in-india', 'Apple iPhone 8': '/apple-iphone-8-price-in-india', 'OnePlus 7': '/oneplus-7-price-in-india', 'OnePlus 7 Pro': '/oneplus-7-pro-price-in-india', 'OnePlus 7T Pro': '/oneplus-7t-pro-price-in-india', 'OnePlus 7T': '/oneplus-7t-price-in-india', 'OnePlus 6T 8GB RAM': '/oneplus-6t-8gb-ram-price-in-india', 'OnePlus 7T Pro McLaren Edition': '/oneplus-7t-pro-mclaren-edition-price-in-india', 'OnePlus 6': '/oneplus-6-price-in-india', 'OnePlus 7 Pro 12GB RAM': '/oneplus-7-pro-12gb-ram-price-in-india', 'OnePlus 5': '/oneplus-5-64gb-price-in-india', 'OnePlus 7 256GB': '/oneplus-7-256gb-price-in-india', 'Nokia 2720 2019': '/nokia-2720-2019-price-in-india', 'Nokia 6.1 Plus (Nokia X6)': '/nokia-61-plus-price-in-india', 'Nokia 8.1 ': '/nokia-81-price-in-india', 'Nokia 8110 4G': '/nokia-8110-4g-price-in-india', 'Nokia 7.2': '/nokia-72-price-in-india', 'Nokia 2.2': '/nokia-22-price-in-india', 'Nokia 6.2': '/nokia-62-price-in-india', 'Nokia 6.1 Plus 6GB RAM': '/nokia-61-plus-6gb-ram-price-in-india', 'Nokia 1': '/nokia-1-price-in-india', 'Nokia 216 Dual SIM': '/nokia-216-dual-sim-price-in-india', 'Huawei P30 Pro': '/huawei-p30-pro-price-in-india', 'Huawei Y9 Prime 2019': '/huawei-y9-prime-2019-price-in-india', 'Huawei P30 Lite': '/huawei-p30-lite-price-in-india', 'Huawei Mate 20 Pro': '/huawei-mate-20-pro-price-in-india', 'Huawei Y9 2019': '/huawei-y9-2019-price-in-india', 'Huawei Nova 3i': '/huawei-nova-3i-price-in-india', 'Huawei P20 Lite': '/huawei-p20-lite-price-in-india', 'Huawei P9': '/huawei-p9-price-in-india', 'Huawei Nova 5T': '/huawei-nova-5t-price-in-india', 'Huawei Mate X': '/huawei-mate-x-price-in-india', 'Honor 20i': '/honor-20-lite-price-in-india', 'Honor 8X': '/honor-8x-price-in-india', 'Honor 10 Lite': '/honor-10-lite-price-in-india', 'Honor 20': '/honor-20-price-in-india', 'Honor 8C': '/honor-8c-price-in-india', 'Honor 7S (Play 7)': '/honor-play-7-price-in-india', 'Honor 9i': '/honor-9i-price-in-india', 'Honor 9 Lite': '/honor-9-lite-price-in-india', 'Honor 9N': '/honor-9n-price-in-india', 'Honor 9N 64GB': '/honor-9n-64gb-price-in-india', 'Reliance JioPhone': '/reliance-jio-phone-price-in-india', 'Reliance ZTE D286': '/reliance-zte-d286-price-in-india', 'Reliance Lava C180': '/reliance-lava-c180-price-in-india', 'Reliance Lava EG841': '/reliance-lava-eg841-price-in-india', 'Reliance Lava EG932': '/reliance-lava-eg932-price-in-india', 'Asus ROG Phone 2': '/asus-rog-phone-2-price-in-india', 'Asus Zenfone Lite L1 ': '/asus-zenfone-lite-l1-price-in-india', 'Asus 6Z': '/asus-zenfone-6z-price-in-india', 'Asus Zenfone Max M2': '/asus-zenfone-max-m2-price-in-india', 'Asus Zenfone Max Pro M1': '/asus-zenfone-max-pro-price-in-india', 'Asus Zenfone 5Z 128GB': '/asus-zenfone-5z-128gb-price-in-india', 'Asus Zenfone Max Pro M1 64GB': '/asus-zenfone-max-pro-m1-64gb-price-in-india', 'Asus Zenfone Max Pro M1 6GB RAM': '/asus-zenfone-max-pro-m1-6gb-ram-price-in-india', 'Asus Zenfone Max M1': '/asus-zenfone-max-m1-price-in-india', 'Asus Zenfone Max M2 64GB': '/asus-zenfone-max-m2-64gb-price-in-india', 'Lenovo K10 Note': '/lenovo-k10-note-price-in-india', 'Lenovo Z6 Pro': '/lenovo-z6-pro-price-in-india', 'Lenovo K8 Plus': '/lenovo-k8-plus-price-in-india', 'Lenovo K9': '/lenovo-k9-price-in-india', 'Lenovo A6 Note': '/lenovo-a6-note-price-in-india', 'Lenovo K8 Note': '/lenovo-k8-note-price-in-india', 'Lenovo A5': '/lenovo-a5-price-in-india', 'Lenovo K10 Plus': '/lenovo-k10-plus-price-in-india', 'Lenovo K4 Note': '/lenovo-k4-note-price-in-india', 'Lenovo K10 Note 128GB': '/lenovo-k10-note-128gb-price-in-india', 'Moto G8 Plus': '/moto-g8-plus-price-in-india', 'Motorola One Vision': '/motorola-one-vision-price-in-india', 'Motorola One Action': '/motorola-one-action-price-in-india', 'Moto E6s': '/moto-e6s-price-in-india', 'Motorola One Power (P30 Note)': '/motorola-one-power-price-in-india', 'Motorola One Macro': '/motorola-one-macro-price-in-india', 'Moto G7': '/moto-g7-price-in-india', 'Moto G5S Plus': '/moto-g5s-plus-price-in-india', 'Moto E4 Plus': '/moto-e4-plus-32gb-price-in-india', 'Moto G7 Power': '/moto-g7-power-price-in-india', 'Micromax Bharat 5 Infinity Edition': '/micromax-bharat-5-infinity-edition-price-in-india', 'Micromax Infinity N12': '/micromax-infinity-n12-price-in-india', 'Micromax X741': '/micromax-x741-price-in-india', 'Micromax Bharat Go': '/micromax-bharat-go-price-in-india', 'Micromax Spark Go': '/micromax-spark-go-price-in-india', 'Micromax Infinity N11': '/micromax-infinity-n11-price-in-india', 'Micromax Bharat 2 Plus': '/micromax-bharat-2-plus-price-in-india', 'Micromax Bharat 5 Pro': '/micromax-bharat-5-pro-price-in-india', 'Micromax X746': '/micromax-x746-price-in-india', 'Micromax Evok Dual Note': '/micromax-evok-dual-note-price-in-india', 'Tecno Camon 12 Air': '/tecno-camon-12-air-price-in-india', 'Tecno Spark Go': '/tecno-spark-go-price-in-india', 'Tecno Spark 4 Air': '/tecno-spark-4-air-price-in-india', 'Tecno Phantom 9': '/tecno-phantom-9-price-in-india', 'Tecno Camon i4': '/tecno-camon-i4-price-in-india', 'Tecno Camon i': '/tecno-camon-i-price-in-india', 'Tecno Spark Power': '/tecno-spark-power-price-in-india', 'Tecno Camon iAce 2': '/tecno-camon-iace-2-price-in-india', 'Tecno Camon iClick 2': '/tecno-camon-iclick-2-price-in-india', 'Tecno Camon iSky 2': '/tecno-camon-isky-2-price-in-india', 'Sony Xperia R1 Plus': '/sony-xperia-r1-plus-price-in-india', 'Sony Xperia XZ Premium': '/sony-xperia-xz-premium-price-in-india', 'Sony Xperia C5 Ultra Dual': '/sony-xperia-c5-ultra-dual-price-in-india', 'Sony Xperia R1': '/sony-xperia-r1-price-in-india', 'Sony Xperia E': '/sony-xperia-e-price-in-india', 'Sony Xperia Z': '/sony-xperia-z-price-in-india', 'Sony Xperia E1 Dual': '/sony-xperia-e1-dual-price-in-india', 'Sony Xperia Z5 Dual': '/sony-xperia-z5-dual-price-in-india', 'Sony Xperia Z3+': '/sony-xperia-z3-plus-price-in-india', 'Sony Xperia 1': '/sony-xperia-1-price-in-india'}\n"
     ]
    }
   ],
   "source": [
    "print(store1)"
   ]
  },
  {
   "cell_type": "code",
   "execution_count": 12,
   "metadata": {},
   "outputs": [
    {
     "ename": "KeyboardInterrupt",
     "evalue": "",
     "output_type": "error",
     "traceback": [
      "\u001b[1;31m---------------------------------------------------------------------------\u001b[0m",
      "\u001b[1;31mKeyboardInterrupt\u001b[0m                         Traceback (most recent call last)",
      "\u001b[1;32m<ipython-input-12-29b31af9dded>\u001b[0m in \u001b[0;36m<module>\u001b[1;34m\u001b[0m\n\u001b[0;32m     10\u001b[0m         \u001b[0muClient\u001b[0m\u001b[1;33m.\u001b[0m\u001b[0mclose\u001b[0m\u001b[1;33m(\u001b[0m\u001b[1;33m)\u001b[0m\u001b[1;33m\u001b[0m\u001b[1;33m\u001b[0m\u001b[0m\n\u001b[0;32m     11\u001b[0m         \u001b[1;31m#parsing the html\u001b[0m\u001b[1;33m\u001b[0m\u001b[1;33m\u001b[0m\u001b[1;33m\u001b[0m\u001b[0m\n\u001b[1;32m---> 12\u001b[1;33m         \u001b[0mpage_soup1\u001b[0m \u001b[1;33m=\u001b[0m \u001b[0msoup\u001b[0m\u001b[1;33m(\u001b[0m\u001b[0mpage_html1\u001b[0m\u001b[1;33m,\u001b[0m\u001b[1;34m\"html.parser\"\u001b[0m\u001b[1;33m)\u001b[0m\u001b[1;33m\u001b[0m\u001b[1;33m\u001b[0m\u001b[0m\n\u001b[0m\u001b[0;32m     13\u001b[0m         \u001b[1;31m#finding tags where link for full review is available\u001b[0m\u001b[1;33m\u001b[0m\u001b[1;33m\u001b[0m\u001b[1;33m\u001b[0m\u001b[0m\n\u001b[0;32m     14\u001b[0m         \u001b[0mfurther1\u001b[0m \u001b[1;33m=\u001b[0m \u001b[0mpage_soup1\u001b[0m\u001b[1;33m.\u001b[0m\u001b[0mfind_all\u001b[0m\u001b[1;33m(\u001b[0m\u001b[1;34m\"span\"\u001b[0m\u001b[1;33m,\u001b[0m \u001b[0mclass_\u001b[0m\u001b[1;33m=\u001b[0m\u001b[1;34m\"bott_fullrevew\"\u001b[0m\u001b[1;33m)\u001b[0m\u001b[1;33m[\u001b[0m\u001b[1;36m1\u001b[0m\u001b[1;33m]\u001b[0m\u001b[1;33m\u001b[0m\u001b[1;33m\u001b[0m\u001b[0m\n",
      "\u001b[1;32m~\\Anaconda3\\lib\\site-packages\\bs4\\__init__.py\u001b[0m in \u001b[0;36m__init__\u001b[1;34m(self, markup, features, builder, parse_only, from_encoding, exclude_encodings, **kwargs)\u001b[0m\n\u001b[0;32m    301\u001b[0m             \u001b[0mself\u001b[0m\u001b[1;33m.\u001b[0m\u001b[0mreset\u001b[0m\u001b[1;33m(\u001b[0m\u001b[1;33m)\u001b[0m\u001b[1;33m\u001b[0m\u001b[1;33m\u001b[0m\u001b[0m\n\u001b[0;32m    302\u001b[0m             \u001b[1;32mtry\u001b[0m\u001b[1;33m:\u001b[0m\u001b[1;33m\u001b[0m\u001b[1;33m\u001b[0m\u001b[0m\n\u001b[1;32m--> 303\u001b[1;33m                 \u001b[0mself\u001b[0m\u001b[1;33m.\u001b[0m\u001b[0m_feed\u001b[0m\u001b[1;33m(\u001b[0m\u001b[1;33m)\u001b[0m\u001b[1;33m\u001b[0m\u001b[1;33m\u001b[0m\u001b[0m\n\u001b[0m\u001b[0;32m    304\u001b[0m                 \u001b[1;32mbreak\u001b[0m\u001b[1;33m\u001b[0m\u001b[1;33m\u001b[0m\u001b[0m\n\u001b[0;32m    305\u001b[0m             \u001b[1;32mexcept\u001b[0m \u001b[0mParserRejectedMarkup\u001b[0m\u001b[1;33m:\u001b[0m\u001b[1;33m\u001b[0m\u001b[1;33m\u001b[0m\u001b[0m\n",
      "\u001b[1;32m~\\Anaconda3\\lib\\site-packages\\bs4\\__init__.py\u001b[0m in \u001b[0;36m_feed\u001b[1;34m(self)\u001b[0m\n\u001b[0;32m    362\u001b[0m         \u001b[0mself\u001b[0m\u001b[1;33m.\u001b[0m\u001b[0mbuilder\u001b[0m\u001b[1;33m.\u001b[0m\u001b[0mreset\u001b[0m\u001b[1;33m(\u001b[0m\u001b[1;33m)\u001b[0m\u001b[1;33m\u001b[0m\u001b[1;33m\u001b[0m\u001b[0m\n\u001b[0;32m    363\u001b[0m \u001b[1;33m\u001b[0m\u001b[0m\n\u001b[1;32m--> 364\u001b[1;33m         \u001b[0mself\u001b[0m\u001b[1;33m.\u001b[0m\u001b[0mbuilder\u001b[0m\u001b[1;33m.\u001b[0m\u001b[0mfeed\u001b[0m\u001b[1;33m(\u001b[0m\u001b[0mself\u001b[0m\u001b[1;33m.\u001b[0m\u001b[0mmarkup\u001b[0m\u001b[1;33m)\u001b[0m\u001b[1;33m\u001b[0m\u001b[1;33m\u001b[0m\u001b[0m\n\u001b[0m\u001b[0;32m    365\u001b[0m         \u001b[1;31m# Close out any unfinished strings and close all the open tags.\u001b[0m\u001b[1;33m\u001b[0m\u001b[1;33m\u001b[0m\u001b[1;33m\u001b[0m\u001b[0m\n\u001b[0;32m    366\u001b[0m         \u001b[0mself\u001b[0m\u001b[1;33m.\u001b[0m\u001b[0mendData\u001b[0m\u001b[1;33m(\u001b[0m\u001b[1;33m)\u001b[0m\u001b[1;33m\u001b[0m\u001b[1;33m\u001b[0m\u001b[0m\n",
      "\u001b[1;32m~\\Anaconda3\\lib\\site-packages\\bs4\\builder\\_htmlparser.py\u001b[0m in \u001b[0;36mfeed\u001b[1;34m(self, markup)\u001b[0m\n\u001b[0;32m    248\u001b[0m         \u001b[0mparser\u001b[0m\u001b[1;33m.\u001b[0m\u001b[0msoup\u001b[0m \u001b[1;33m=\u001b[0m \u001b[0mself\u001b[0m\u001b[1;33m.\u001b[0m\u001b[0msoup\u001b[0m\u001b[1;33m\u001b[0m\u001b[1;33m\u001b[0m\u001b[0m\n\u001b[0;32m    249\u001b[0m         \u001b[1;32mtry\u001b[0m\u001b[1;33m:\u001b[0m\u001b[1;33m\u001b[0m\u001b[1;33m\u001b[0m\u001b[0m\n\u001b[1;32m--> 250\u001b[1;33m             \u001b[0mparser\u001b[0m\u001b[1;33m.\u001b[0m\u001b[0mfeed\u001b[0m\u001b[1;33m(\u001b[0m\u001b[0mmarkup\u001b[0m\u001b[1;33m)\u001b[0m\u001b[1;33m\u001b[0m\u001b[1;33m\u001b[0m\u001b[0m\n\u001b[0m\u001b[0;32m    251\u001b[0m             \u001b[0mparser\u001b[0m\u001b[1;33m.\u001b[0m\u001b[0mclose\u001b[0m\u001b[1;33m(\u001b[0m\u001b[1;33m)\u001b[0m\u001b[1;33m\u001b[0m\u001b[1;33m\u001b[0m\u001b[0m\n\u001b[0;32m    252\u001b[0m         \u001b[1;32mexcept\u001b[0m \u001b[0mHTMLParseError\u001b[0m \u001b[1;32mas\u001b[0m \u001b[0me\u001b[0m\u001b[1;33m:\u001b[0m\u001b[1;33m\u001b[0m\u001b[1;33m\u001b[0m\u001b[0m\n",
      "\u001b[1;32m~\\Anaconda3\\lib\\html\\parser.py\u001b[0m in \u001b[0;36mfeed\u001b[1;34m(self, data)\u001b[0m\n\u001b[0;32m    109\u001b[0m         \"\"\"\n\u001b[0;32m    110\u001b[0m         \u001b[0mself\u001b[0m\u001b[1;33m.\u001b[0m\u001b[0mrawdata\u001b[0m \u001b[1;33m=\u001b[0m \u001b[0mself\u001b[0m\u001b[1;33m.\u001b[0m\u001b[0mrawdata\u001b[0m \u001b[1;33m+\u001b[0m \u001b[0mdata\u001b[0m\u001b[1;33m\u001b[0m\u001b[1;33m\u001b[0m\u001b[0m\n\u001b[1;32m--> 111\u001b[1;33m         \u001b[0mself\u001b[0m\u001b[1;33m.\u001b[0m\u001b[0mgoahead\u001b[0m\u001b[1;33m(\u001b[0m\u001b[1;36m0\u001b[0m\u001b[1;33m)\u001b[0m\u001b[1;33m\u001b[0m\u001b[1;33m\u001b[0m\u001b[0m\n\u001b[0m\u001b[0;32m    112\u001b[0m \u001b[1;33m\u001b[0m\u001b[0m\n\u001b[0;32m    113\u001b[0m     \u001b[1;32mdef\u001b[0m \u001b[0mclose\u001b[0m\u001b[1;33m(\u001b[0m\u001b[0mself\u001b[0m\u001b[1;33m)\u001b[0m\u001b[1;33m:\u001b[0m\u001b[1;33m\u001b[0m\u001b[1;33m\u001b[0m\u001b[0m\n",
      "\u001b[1;32m~\\Anaconda3\\lib\\html\\parser.py\u001b[0m in \u001b[0;36mgoahead\u001b[1;34m(self, end)\u001b[0m\n\u001b[0;32m    169\u001b[0m             \u001b[1;32mif\u001b[0m \u001b[0mstartswith\u001b[0m\u001b[1;33m(\u001b[0m\u001b[1;34m'<'\u001b[0m\u001b[1;33m,\u001b[0m \u001b[0mi\u001b[0m\u001b[1;33m)\u001b[0m\u001b[1;33m:\u001b[0m\u001b[1;33m\u001b[0m\u001b[1;33m\u001b[0m\u001b[0m\n\u001b[0;32m    170\u001b[0m                 \u001b[1;32mif\u001b[0m \u001b[0mstarttagopen\u001b[0m\u001b[1;33m.\u001b[0m\u001b[0mmatch\u001b[0m\u001b[1;33m(\u001b[0m\u001b[0mrawdata\u001b[0m\u001b[1;33m,\u001b[0m \u001b[0mi\u001b[0m\u001b[1;33m)\u001b[0m\u001b[1;33m:\u001b[0m \u001b[1;31m# < + letter\u001b[0m\u001b[1;33m\u001b[0m\u001b[1;33m\u001b[0m\u001b[0m\n\u001b[1;32m--> 171\u001b[1;33m                     \u001b[0mk\u001b[0m \u001b[1;33m=\u001b[0m \u001b[0mself\u001b[0m\u001b[1;33m.\u001b[0m\u001b[0mparse_starttag\u001b[0m\u001b[1;33m(\u001b[0m\u001b[0mi\u001b[0m\u001b[1;33m)\u001b[0m\u001b[1;33m\u001b[0m\u001b[1;33m\u001b[0m\u001b[0m\n\u001b[0m\u001b[0;32m    172\u001b[0m                 \u001b[1;32melif\u001b[0m \u001b[0mstartswith\u001b[0m\u001b[1;33m(\u001b[0m\u001b[1;34m\"</\"\u001b[0m\u001b[1;33m,\u001b[0m \u001b[0mi\u001b[0m\u001b[1;33m)\u001b[0m\u001b[1;33m:\u001b[0m\u001b[1;33m\u001b[0m\u001b[1;33m\u001b[0m\u001b[0m\n\u001b[0;32m    173\u001b[0m                     \u001b[0mk\u001b[0m \u001b[1;33m=\u001b[0m \u001b[0mself\u001b[0m\u001b[1;33m.\u001b[0m\u001b[0mparse_endtag\u001b[0m\u001b[1;33m(\u001b[0m\u001b[0mi\u001b[0m\u001b[1;33m)\u001b[0m\u001b[1;33m\u001b[0m\u001b[1;33m\u001b[0m\u001b[0m\n",
      "\u001b[1;32m~\\Anaconda3\\lib\\html\\parser.py\u001b[0m in \u001b[0;36mparse_starttag\u001b[1;34m(self, i)\u001b[0m\n\u001b[0;32m    343\u001b[0m             \u001b[0mself\u001b[0m\u001b[1;33m.\u001b[0m\u001b[0mhandle_startendtag\u001b[0m\u001b[1;33m(\u001b[0m\u001b[0mtag\u001b[0m\u001b[1;33m,\u001b[0m \u001b[0mattrs\u001b[0m\u001b[1;33m)\u001b[0m\u001b[1;33m\u001b[0m\u001b[1;33m\u001b[0m\u001b[0m\n\u001b[0;32m    344\u001b[0m         \u001b[1;32melse\u001b[0m\u001b[1;33m:\u001b[0m\u001b[1;33m\u001b[0m\u001b[1;33m\u001b[0m\u001b[0m\n\u001b[1;32m--> 345\u001b[1;33m             \u001b[0mself\u001b[0m\u001b[1;33m.\u001b[0m\u001b[0mhandle_starttag\u001b[0m\u001b[1;33m(\u001b[0m\u001b[0mtag\u001b[0m\u001b[1;33m,\u001b[0m \u001b[0mattrs\u001b[0m\u001b[1;33m)\u001b[0m\u001b[1;33m\u001b[0m\u001b[1;33m\u001b[0m\u001b[0m\n\u001b[0m\u001b[0;32m    346\u001b[0m             \u001b[1;32mif\u001b[0m \u001b[0mtag\u001b[0m \u001b[1;32min\u001b[0m \u001b[0mself\u001b[0m\u001b[1;33m.\u001b[0m\u001b[0mCDATA_CONTENT_ELEMENTS\u001b[0m\u001b[1;33m:\u001b[0m\u001b[1;33m\u001b[0m\u001b[1;33m\u001b[0m\u001b[0m\n\u001b[0;32m    347\u001b[0m                 \u001b[0mself\u001b[0m\u001b[1;33m.\u001b[0m\u001b[0mset_cdata_mode\u001b[0m\u001b[1;33m(\u001b[0m\u001b[0mtag\u001b[0m\u001b[1;33m)\u001b[0m\u001b[1;33m\u001b[0m\u001b[1;33m\u001b[0m\u001b[0m\n",
      "\u001b[1;32m~\\Anaconda3\\lib\\site-packages\\bs4\\builder\\_htmlparser.py\u001b[0m in \u001b[0;36mhandle_starttag\u001b[1;34m(self, name, attrs, handle_empty_element)\u001b[0m\n\u001b[0;32m    100\u001b[0m             \u001b[0mattrvalue\u001b[0m \u001b[1;33m=\u001b[0m \u001b[1;34m'\"\"'\u001b[0m\u001b[1;33m\u001b[0m\u001b[1;33m\u001b[0m\u001b[0m\n\u001b[0;32m    101\u001b[0m         \u001b[1;31m#print \"START\", name\u001b[0m\u001b[1;33m\u001b[0m\u001b[1;33m\u001b[0m\u001b[1;33m\u001b[0m\u001b[0m\n\u001b[1;32m--> 102\u001b[1;33m         \u001b[0mtag\u001b[0m \u001b[1;33m=\u001b[0m \u001b[0mself\u001b[0m\u001b[1;33m.\u001b[0m\u001b[0msoup\u001b[0m\u001b[1;33m.\u001b[0m\u001b[0mhandle_starttag\u001b[0m\u001b[1;33m(\u001b[0m\u001b[0mname\u001b[0m\u001b[1;33m,\u001b[0m \u001b[1;32mNone\u001b[0m\u001b[1;33m,\u001b[0m \u001b[1;32mNone\u001b[0m\u001b[1;33m,\u001b[0m \u001b[0mattr_dict\u001b[0m\u001b[1;33m)\u001b[0m\u001b[1;33m\u001b[0m\u001b[1;33m\u001b[0m\u001b[0m\n\u001b[0m\u001b[0;32m    103\u001b[0m         \u001b[1;32mif\u001b[0m \u001b[0mtag\u001b[0m \u001b[1;32mand\u001b[0m \u001b[0mtag\u001b[0m\u001b[1;33m.\u001b[0m\u001b[0mis_empty_element\u001b[0m \u001b[1;32mand\u001b[0m \u001b[0mhandle_empty_element\u001b[0m\u001b[1;33m:\u001b[0m\u001b[1;33m\u001b[0m\u001b[1;33m\u001b[0m\u001b[0m\n\u001b[0;32m    104\u001b[0m             \u001b[1;31m# Unlike other parsers, html.parser doesn't send separate end tag\u001b[0m\u001b[1;33m\u001b[0m\u001b[1;33m\u001b[0m\u001b[1;33m\u001b[0m\u001b[0m\n",
      "\u001b[1;32m~\\Anaconda3\\lib\\site-packages\\bs4\\__init__.py\u001b[0m in \u001b[0;36mhandle_starttag\u001b[1;34m(self, name, namespace, nsprefix, attrs)\u001b[0m\n\u001b[0;32m    542\u001b[0m \u001b[1;33m\u001b[0m\u001b[0m\n\u001b[0;32m    543\u001b[0m         \u001b[1;31m# print \"Start tag %s: %s\" % (name, attrs)\u001b[0m\u001b[1;33m\u001b[0m\u001b[1;33m\u001b[0m\u001b[1;33m\u001b[0m\u001b[0m\n\u001b[1;32m--> 544\u001b[1;33m         \u001b[0mself\u001b[0m\u001b[1;33m.\u001b[0m\u001b[0mendData\u001b[0m\u001b[1;33m(\u001b[0m\u001b[1;33m)\u001b[0m\u001b[1;33m\u001b[0m\u001b[1;33m\u001b[0m\u001b[0m\n\u001b[0m\u001b[0;32m    545\u001b[0m \u001b[1;33m\u001b[0m\u001b[0m\n\u001b[0;32m    546\u001b[0m         if (self.parse_only and len(self.tagStack) <= 1\n",
      "\u001b[1;32m~\\Anaconda3\\lib\\site-packages\\bs4\\__init__.py\u001b[0m in \u001b[0;36mendData\u001b[1;34m(self, containerClass)\u001b[0m\n\u001b[0;32m    420\u001b[0m                 \u001b[0mstrippable\u001b[0m \u001b[1;33m=\u001b[0m \u001b[1;32mTrue\u001b[0m\u001b[1;33m\u001b[0m\u001b[1;33m\u001b[0m\u001b[0m\n\u001b[0;32m    421\u001b[0m                 \u001b[1;32mfor\u001b[0m \u001b[0mi\u001b[0m \u001b[1;32min\u001b[0m \u001b[0mcurrent_data\u001b[0m\u001b[1;33m:\u001b[0m\u001b[1;33m\u001b[0m\u001b[1;33m\u001b[0m\u001b[0m\n\u001b[1;32m--> 422\u001b[1;33m                     \u001b[1;32mif\u001b[0m \u001b[0mi\u001b[0m \u001b[1;32mnot\u001b[0m \u001b[1;32min\u001b[0m \u001b[0mself\u001b[0m\u001b[1;33m.\u001b[0m\u001b[0mASCII_SPACES\u001b[0m\u001b[1;33m:\u001b[0m\u001b[1;33m\u001b[0m\u001b[1;33m\u001b[0m\u001b[0m\n\u001b[0m\u001b[0;32m    423\u001b[0m                         \u001b[0mstrippable\u001b[0m \u001b[1;33m=\u001b[0m \u001b[1;32mFalse\u001b[0m\u001b[1;33m\u001b[0m\u001b[1;33m\u001b[0m\u001b[0m\n\u001b[0;32m    424\u001b[0m                         \u001b[1;32mbreak\u001b[0m\u001b[1;33m\u001b[0m\u001b[1;33m\u001b[0m\u001b[0m\n",
      "\u001b[1;31mKeyboardInterrupt\u001b[0m: "
     ]
    }
   ],
   "source": [
    "#for all the reviews, a seperate html page needs to be scraped\n",
    "links_store={}\n",
    "#looping over the dict of phone names and corresponding review links\n",
    "for i in store1:\n",
    "    try:\n",
    "        new_url1=url+store1[i]\n",
    "        uClient = uReq(new_url1)\n",
    "        #reading the page info\n",
    "        page_html1 = uClient.read()\n",
    "        uClient.close()\n",
    "        #parsing the html\n",
    "        page_soup1 = soup(page_html1,\"html.parser\")\n",
    "        #finding tags where link for full review is available\n",
    "        further1 = page_soup1.find_all(\"span\", class_=\"bott_fullrevew\")[1]\n",
    "        #finding the exact tag for link in sub tags\n",
    "        a_link=further1.find('a',class_=\"readfull\",href=True)\n",
    "        #storing the name along with phone's link and review page link\n",
    "        links_store[i]=[store1[i],a_link[\"href\"]]\n",
    "    except IndexError:\n",
    "        continue"
   ]
  },
  {
   "cell_type": "code",
   "execution_count": 8,
   "metadata": {},
   "outputs": [
    {
     "name": "stdout",
     "output_type": "stream",
     "text": [
      "{}\n"
     ]
    }
   ],
   "source": [
    "pprint(links_store)"
   ]
  },
  {
   "cell_type": "code",
   "execution_count": 43,
   "metadata": {},
   "outputs": [],
   "source": [
    "#writing links to a json file\n",
    "import json\n",
    "with open(\"links2.json\",\"w\") as x:\n",
    "    json.dump(links_store,x)"
   ]
  },
  {
   "cell_type": "code",
   "execution_count": 65,
   "metadata": {},
   "outputs": [],
   "source": [
    "#extracting links from json\n",
    "import json\n",
    "with open(\"links2_frst_half.json\",\"r\") as x:\n",
    "    links_store=json.load(x)"
   ]
  },
  {
   "cell_type": "code",
   "execution_count": 2,
   "metadata": {},
   "outputs": [],
   "source": [
    "links_store={'iphone11':[,\"/Apple-iPhone+XI-viewReview.html\"]}"
   ]
  },
  {
   "cell_type": "code",
   "execution_count": 11,
   "metadata": {},
   "outputs": [
    {
     "ename": "NameError",
     "evalue": "name 'json' is not defined",
     "output_type": "error",
     "traceback": [
      "\u001b[1;31m---------------------------------------------------------------------------\u001b[0m",
      "\u001b[1;31mNameError\u001b[0m                                 Traceback (most recent call last)",
      "\u001b[1;32m<ipython-input-11-15b53951bfed>\u001b[0m in \u001b[0;36m<module>\u001b[1;34m\u001b[0m\n\u001b[0;32m     76\u001b[0m     \u001b[1;31m#writing all the dictionary to file\u001b[0m\u001b[1;33m\u001b[0m\u001b[1;33m\u001b[0m\u001b[1;33m\u001b[0m\u001b[0m\n\u001b[0;32m     77\u001b[0m     \u001b[1;32mwith\u001b[0m \u001b[0mopen\u001b[0m\u001b[1;33m(\u001b[0m\u001b[1;34m\"final_data_amazon.json\"\u001b[0m\u001b[1;33m,\u001b[0m\u001b[1;34m\"a\"\u001b[0m\u001b[1;33m)\u001b[0m \u001b[1;32mas\u001b[0m \u001b[0mxy\u001b[0m\u001b[1;33m:\u001b[0m\u001b[1;33m\u001b[0m\u001b[1;33m\u001b[0m\u001b[0m\n\u001b[1;32m---> 78\u001b[1;33m         \u001b[0mjson\u001b[0m\u001b[1;33m.\u001b[0m\u001b[0mdump\u001b[0m\u001b[1;33m(\u001b[0m\u001b[0mfinal\u001b[0m\u001b[1;33m[\u001b[0m\u001b[0mnm\u001b[0m\u001b[1;33m]\u001b[0m\u001b[1;33m,\u001b[0m\u001b[0mxy\u001b[0m\u001b[1;33m)\u001b[0m\u001b[1;33m\u001b[0m\u001b[1;33m\u001b[0m\u001b[0m\n\u001b[0m\u001b[0;32m     79\u001b[0m     \u001b[0msleep\u001b[0m\u001b[1;33m(\u001b[0m\u001b[0mrandint\u001b[0m\u001b[1;33m(\u001b[0m\u001b[1;36m10\u001b[0m\u001b[1;33m,\u001b[0m\u001b[1;36m50\u001b[0m\u001b[1;33m)\u001b[0m\u001b[1;33m)\u001b[0m\u001b[1;33m\u001b[0m\u001b[1;33m\u001b[0m\u001b[0m\n",
      "\u001b[1;31mNameError\u001b[0m: name 'json' is not defined"
     ]
    }
   ],
   "source": [
    "#importing packages\n",
    "from random import randint\n",
    "from time import sleep\n",
    "from selenium.webdriver.common.by import By\n",
    "from selenium.webdriver.support.ui import WebDriverWait\n",
    "from selenium.webdriver.support import expected_conditions as EC\n",
    "from selenium import webdriver\n",
    "from selenium.webdriver.support.ui import Select\n",
    "import time\n",
    "from pprint import pprint\n",
    "from bs4 import BeautifulSoup\n",
    "#opening driver through selenium\n",
    "driver = webdriver.Chrome()\n",
    "#initializing the final main dictionary\n",
    "final={}\n",
    "for nm in links_store:\n",
    "    #initializing individual empty dictionaries for each phone\n",
    "    final[nm]={}\n",
    "    #home url assigning to a variable\n",
    "    home_url=\"https://www.91mobiles.com\"\n",
    "    #creating a new variable\n",
    "    new_url=home_url+links_store[nm][1]\n",
    "    driver.get(new_url)\n",
    "    time.sleep(5)\n",
    "    #finding the filter drop down element by xpath\n",
    "    option = driver.find_element_by_xpath(\"\"\"//*[@id=\"source_filter\"]\"\"\")\n",
    "    #sending keys to filter drop down\n",
    "    option.send_keys(\"Amazon.in\")\n",
    "    # driver.execute_script(\"window.scrollTo(0,5600)\")\n",
    "    SCROLL_PAUSE_TIME = 1\n",
    "\n",
    "    # Get scroll height\n",
    "    last_height = driver.execute_script(\"return document.body.scrollHeight\")\n",
    "    #ht=1\n",
    "    while True:\n",
    "        # Scroll down to bottom\n",
    "        driver.execute_script(\"window.scrollTo(0, document.body.scrollHeight);\")\n",
    "\n",
    "        # Wait to load page\n",
    "        time.sleep(SCROLL_PAUSE_TIME)\n",
    "\n",
    "        # Calculate new scroll height and compare with last scroll height\n",
    "        new_height = driver.execute_script(\"return document.body.scrollHeight\")\n",
    "        if new_height == last_height:\n",
    "            break\n",
    "        last_height = new_height\n",
    "        #ht+=1\n",
    "    #timer to load\n",
    "    time.sleep(10)\n",
    "    #extracting all the page information\n",
    "    page_html = driver.page_source\n",
    "    #parsing the html\n",
    "    soup1 = BeautifulSoup(page_html, 'html.parser')\n",
    "    first=soup1.find('div',attrs={'class':'rt_cn'})\n",
    "    #extracting rating from the html\n",
    "    rating=first.find_all('span')[1].text\n",
    "    #extracting based on number of reviews information\n",
    "    based_on=first.find('b').text\n",
    "    #extracting all the reviews tags\n",
    "    tmp=soup1.find_all('div',attrs={'class':'review_section'})\n",
    "    total=[]\n",
    "    #storing all the reviews along with information like useful which shows number of people benefitted by the review\n",
    "    for i in tmp:\n",
    "        date_tmp=i.find('div',attrs={'class':'left-rw'})\n",
    "        rating_i=i.find('div',attrs={'class':'rating-stars_rw'})[\"title\"]\n",
    "        review=i.find('p').text\n",
    "        tmp=i.find('div',attrs={'class':'rw-helpful'})\n",
    "        useful=tmp.find('span',attrs={'class':'fltL'}).text\n",
    "        date=date_tmp.find_all('span',attrs={'class':'user_info'})[0].text\n",
    "        total.append([review,useful,rating_i,date])\n",
    "#         if len(total)==50:\n",
    "#             break\n",
    "    final[nm][\"rating\"]=rating\n",
    "    final[nm][\"based_on\"]=based_on\n",
    "    final[nm][\"reviews,useful,rating,date\"]=total\n",
    "    #writing all the dictionary to file\n",
    "    with open(\"final_data_amazon.json\",\"a\") as xy:\n",
    "        json.dump(final[nm],xy)\n",
    "    sleep(randint(10,50))"
   ]
  },
  {
   "cell_type": "code",
   "execution_count": 16,
   "metadata": {},
   "outputs": [
    {
     "data": {
      "text/plain": [
       "50"
      ]
     },
     "execution_count": 16,
     "metadata": {},
     "output_type": "execute_result"
    }
   ],
   "source": [
    "len(final[1]['reviews,useful,rating,date'])\n"
   ]
  }
 ],
 "metadata": {
  "kernelspec": {
   "display_name": "Python 3",
   "language": "python",
   "name": "python3"
  },
  "language_info": {
   "codemirror_mode": {
    "name": "ipython",
    "version": 3
   },
   "file_extension": ".py",
   "mimetype": "text/x-python",
   "name": "python",
   "nbconvert_exporter": "python",
   "pygments_lexer": "ipython3",
   "version": "3.7.4"
  }
 },
 "nbformat": 4,
 "nbformat_minor": 4
}
