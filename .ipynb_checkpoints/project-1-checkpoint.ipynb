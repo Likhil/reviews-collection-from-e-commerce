{
 "cells": [
  {
   "cell_type": "markdown",
   "metadata": {},
   "source": [
    "Name: Likhil Kumar Rachuri\n",
    "\n",
    "ID: lkr46\n",
    "\n",
    "Team members: Shyam prasad Sukumar(ss4978) and Anandhi Solaimuthu(as5326)"
   ]
  },
  {
   "cell_type": "markdown",
   "metadata": {},
   "source": [
    "# DSCI 511: Data Acquisition and Pre-Processing <br> Term Project Phase 1: Scoping a data set"
   ]
  },
  {
   "cell_type": "markdown",
   "metadata": {},
   "source": [
    "## The big picture\n",
    "Welcome to your term project! This is the first portion of a two-part, open-ended team assignment that will culminate in a presentation during the last week of class or the regularly scheduled final exam period. Overall, this term project is intended to provide some open-ended experience with building a complex dataset and making it available. Specifically, all projects for this course will entail the following:\n",
    "\n",
    "- The construction, acquistion, integration, enrichment, and distribution of a project-motivated and computationally significant dataset.\n",
    "\n",
    "The first report on your team's project will constitue a discussion of what the dataset is that you want to build/access/create, why you believe it will be possilbe to conduct, and how long you believe it will take to build, in addition to discussion of the sorts of tasks that will be involved. Additionally, this inital project planning report should speculate and provide examples potential dataset uses, whether academic or commercial.\n",
    "\n",
    "__Note__: All reports should inclue a high level abstract/discussion in a tone that is set for a completely diverse audience.\n",
    "\n",
    "Later on, a final report will recap progress at the task you're group has come up with, specifically revisiting what you _though_ the dataset development would take,  as compared to the actual work involved and obstacles encountered.\n",
    "\n",
    "__Important__: because your project reports will have discussion intermingled with data and code as output, I not only request the  submission of your work in Jupyter Notebooks format, but additionly recommend conducting your work as a group collaboratively in Jupyter notebooks."
   ]
  },
  {
   "cell_type": "markdown",
   "metadata": {},
   "source": [
    "## This is only a guideline\n",
    "\n",
    "While I will provide some idea of structure and expectation for your project it is important to note that this is an intentionally open-ended project. Hence, no specific rubric is provided. The courses of different projects will require overcoming different obstacles, and success in a data science project is ultimately a (partial) function of a team's abaility to adapt to project needs. However, all work should be well documented, articulately presented, and justified. If at any point it is unclear what to do or how to represent your project's work, please do not hesitate to ask your instructor for direction."
   ]
  },
  {
   "cell_type": "markdown",
   "metadata": {},
   "source": [
    "## Your team\n",
    "\n",
    "The first thing you'll have to do in this phase is organize into a project team. Data science is often conducted in teams, with different team members covering the diversity of knowledge and skills relevant to the different areas that a project must support to succeed. Even though our course is only focused on early-phase data science tasks (data set development), be sure to consider the strengths of your teamates and interests for gaining experience in dataset construction&mdash;if you want extensive experience with web scraping, pitch a project about this with a few other interested points. It will help to discuss interests. Be sure to write out the names of the project team's members in your first report and answer the two questions:\n",
    "\n",
    "1. What areas/skills/domains does the team member presently identify with?\n",
    "2. Into which areas/skills/domains would the team member like to grow?"
   ]
  },
  {
   "cell_type": "markdown",
   "metadata": {},
   "source": [
    "## Your topic\n",
    "\n",
    "The course of your project will be determined by two things:\n",
    "\n",
    "1. the motivations present in your project's team and\n",
    "2. the data your project is able to pull together.\n",
    "\n",
    "Thus, choosing your topic is closely tied to both your team and the data you are able to identify. To start, discuss the domain interests present on your project team. Te get you on your way, let's start with two questions:\n",
    "\n",
    "1. Is there an aspect of the IoT, natural world, society, literature, or art, etc. that you would like to investigate computationally through what might be considered 'data'? \n",
    "\n",
    "2. What sort of data-medium are you interested to work with?&mdash;For example: transaction records, stock prices, memes and online conversations, open-domain poems, congressional records, News Articles, songs and popularity, Associated Press Images, transit records, call logs, CCTV footage, etcetera.\n",
    "\n",
    "Whatever the direction you set for your project please make sure you document it well, keeping track of how its objectives and strategies change as you encounter available materials and other existing work."
   ]
  },
  {
   "cell_type": "markdown",
   "metadata": {},
   "source": [
    "## What you're responsible for in this phase\n",
    "Ok, so here's the goal again for phase 1. You must:\n",
    "\n",
    "- scope a computationally tangible artifact&mdash;heretofore known as the data set&mdash;whose study is expected to satisfy goals pertaining to the project's topic of interest.\n",
    "\n",
    "This phase of the project will set expectations and a work plan for your project's open-ended work. Not only should you scope the collection of your dataset, but determine what mode's of distribution will be possible once its produces. Will you have to distribute access code, or will you be able to directly provide links to stored data.\n",
    "\n",
    "Ultimately, the completion of your poject will produce raw materials for other folks (possibly you) interested in trying out analysis applications in future coursework (DSCI 521). So, as you identify a potential data set be sure to be realistic about what is possible to collect and how you can preprocess it for use! Ultimately, please make sure that some portion of your target data are guarenteed to be collectable. However, it's okay to try for some data that are a reach, just document any un- or partially successful efforts in your report and discuss what obstacles prevented those data from being collected.\n",
    "\n",
    "### Things I'll be looking for in a Phase 1 report\n",
    "\n",
    "- a background report on the team's members, their self-identified skills, and individual contributions\n",
    "- a discussion of what you would like to your data to do/hope it is good for\n",
    "- an exhibition of a sample of your data&mdash;show me it exists and what it looks like, even if very raw\n",
    "- a discussion of who might be interested in your data set\n",
    "- a discussion of how your data is limited and could be improved\n",
    "- a discussion of how your data were created, e.g., people texting, The Earth's molten core spinning, etc.\n",
    "- a discussion of what sort of access rights presently exist on your data and how/if you will make them available\n",
    "\n",
    "As a heads up, by the end of the term and in your final report I'll be looking for things like\n",
    "- a data dictionary or README.md that describes what is present in the data set and where or how to access\n",
    "- code that documents the construction of your data&mdash;I should be able to re-construct/re-access it!\n",
    "- code that allows me or someone else to interact with your data set\n",
    "- tables and figures indicating the size and variety present in your data\n",
    "\n",
    "_Note_: These are not exhaustive lists of topics or tasks worth covering in your project. In general, if there's something interesting about your dataset, whether relating to its construction, existence, representative population or _anything else_, then be sure to document it!"
   ]
  },
  {
   "cell_type": "markdown",
   "metadata": {},
   "source": [
    "### 1. What areas/skills/domains does the team member presently identify with?\n"
   ]
  },
  {
   "cell_type": "markdown",
   "metadata": {},
   "source": [
    "### Domain: E-commerce."
   ]
  },
  {
   "cell_type": "markdown",
   "metadata": {},
   "source": [
    "### Likhil:"
   ]
  },
  {
   "cell_type": "markdown",
   "metadata": {},
   "source": [
    "Work Experience: 2.7 years\n",
    "\n",
    "Area/Domains: ETL and Oracle,Sql Server database. Insurance Domain."
   ]
  },
  {
   "cell_type": "markdown",
   "metadata": {},
   "source": [
    "### Shyam Prasad Sukumar:"
   ]
  },
  {
   "cell_type": "markdown",
   "metadata": {},
   "source": [
    "Work Experience: 3.6 years\n",
    "\n",
    "Area/Domains: Storage Administrator. Banking Domain."
   ]
  },
  {
   "cell_type": "markdown",
   "metadata": {},
   "source": [
    "### Anandhi Solaimuthu:"
   ]
  },
  {
   "cell_type": "markdown",
   "metadata": {},
   "source": [
    "Work Experience: 3.7 yrs \n",
    "\n",
    "Area/Domains: windows scripting in powershell , windows scripting host  and Batch files. Banking Domain"
   ]
  },
  {
   "cell_type": "markdown",
   "metadata": {},
   "source": [
    "### 2. Into which areas/skills/domains would the team member like to grow? "
   ]
  },
  {
   "cell_type": "markdown",
   "metadata": {},
   "source": [
    "### Likhil:"
   ]
  },
  {
   "cell_type": "markdown",
   "metadata": {},
   "source": [
    "Like to learn more about processing Unstructured data and analysing on it.\n",
    "\n",
    "Interested in Natual Language Processing."
   ]
  },
  {
   "cell_type": "markdown",
   "metadata": {},
   "source": [
    "### Shyam Prasad Sukumar: "
   ]
  },
  {
   "cell_type": "markdown",
   "metadata": {},
   "source": [
    "Interested to deep dive into Statistics.\n",
    "\n",
    "Wish to learn more about Machine Learning and NLP."
   ]
  },
  {
   "cell_type": "markdown",
   "metadata": {},
   "source": [
    "### Anandhi Solaimuthu:"
   ]
  },
  {
   "cell_type": "markdown",
   "metadata": {},
   "source": [
    "Interested in developing skills in recommendation engines and unsupervised machine learnings . "
   ]
  },
  {
   "cell_type": "markdown",
   "metadata": {},
   "source": [
    "# Our topic:"
   ]
  },
  {
   "cell_type": "markdown",
   "metadata": {},
   "source": [
    "We three as a team wish to do our project on E-commerce sites to extract all the data relevant to specific products like \n",
    "its specs, model, brand, ratings, reviews, etc. \n",
    "# Objective:\n",
    "To create a one place store where user can get every details of the product at that place for which the data can be scraped \n",
    "from multiple sites, including the reviews and our analysis on those reviews."
   ]
  },
  {
   "cell_type": "markdown",
   "metadata": {},
   "source": [
    "#### 1.Is there an aspect of the IoT, natural world, society, literature, or art, etc. that you would like to investigate computationally through what might be considered 'data'?"
   ]
  },
  {
   "cell_type": "markdown",
   "metadata": {},
   "source": [
    "In this project we have scope to read and get information from the reviews given by the customers who have used them \n",
    "previously. So we will use natural world interaction and Natural language processing will be a huge asset to be successful \n",
    "for us.\n"
   ]
  },
  {
   "cell_type": "markdown",
   "metadata": {},
   "source": [
    "### 2.What sort of data-medium are you interested to work with?\n",
    "We are working on the online product reviews data and also the collection of features for the product.\n",
    "### Scope or Goal:\n",
    "We wish to focus more on the reviews part in the dataset, which on analysing thoroughly the user will get a final line review for the product. To improve more information into that line is the goal for us."
   ]
  },
  {
   "cell_type": "markdown",
   "metadata": {},
   "source": [
    "### Data Attributes:\n",
    "1.Product Name\n",
    "\n",
    "2.Price\n",
    "\n",
    "3.Rating\n",
    "\n",
    "4.Reviews\n",
    "\n",
    "5.Specs:\n",
    "    1.Processor\n",
    "    2.Memory\n",
    "    3.Display\n",
    "    4.Battery, etc.\n",
    "\n",
    "6.website/URL.\n",
    "\n",
    "7.Brand\n",
    "\n",
    "8.Warranty\n",
    "\n",
    "9.Model Number"
   ]
  },
  {
   "cell_type": "markdown",
   "metadata": {},
   "source": [
    "### Sample Data:\n",
    "Product name:\"Apple MacBook Air Core i5 5th Gen - (8 GB/128 GB SSD/Mac OS Sierra) MQD32HN/A A1466\"\n",
    "\n",
    "Price:₹62,990\n",
    "\n",
    "Rating:4.7\n",
    "\n",
    "Reviews:\n",
    "1.\"this is an awesome laptop it's good for programmers actually because programmers don't need much of video memory because there is not a lot of graphic intensive task that they do it's just about a good multi core processor.\n",
    "also when you have such a good build quality in a laptop you kind of are more focused into your work because you feel good when your working. :)\n",
    "and also there is a lot of online resources you can look come to for its review...\n",
    "thanks for making such good product, apple.\"\n",
    "\n",
    "2.\"I was confused between this and MacBook pro.\n",
    "If you ain’t going to use it as a professional 4k video/photo editor or a hard core gamer go for MacBook Pro.\n",
    "\n",
    "If you does light editing ( 1080p or less) for your YouTube channel and normal photoshop editing your photos, this machine works perfectly fine. Go for it without any doubt.\n",
    "\n",
    "Pros:\n",
    "- Very Light weight\n",
    "- Great Performance\n",
    "- Cheapest Macbook available\n",
    "- SSD drive\n",
    "- Has MacOS (Virus free OS)\n",
    "- Great Apple ecosystem if you use iPhone and AirPods along with this ( Recommended)\n",
    "\n",
    "Cons:\n",
    "- Not for professional 4k video editors or Gamers.\n",
    "- Has only 128 GB SSD, you got to use External Hard disk along with this.\"\n",
    "    "
   ]
  },
  {
   "cell_type": "markdown",
   "metadata": {},
   "source": [
    "# Details:"
   ]
  },
  {
   "cell_type": "markdown",
   "metadata": {},
   "source": [
    "### What you would like to your data to do/hope it is good for?\n",
    "The data from this dataset will be able to do a segregation of the product details at one place along with rating and prices from various sites. Information collected from reviews is also represented briefly which will be more convinient for user."
   ]
  },
  {
   "cell_type": "markdown",
   "metadata": {},
   "source": [
    "### Who might be interested in your data set?\n",
    "As we are currently focussing on the E-commerce data, users who wish purchasing products online from sites will be more interested into our dataset and they can come to a conclusion on the product at a single place."
   ]
  },
  {
   "cell_type": "markdown",
   "metadata": {},
   "source": [
    "### How your data is limited and could be improved\n",
    "Currently we are focussing only on e-commerce sites to pull the reviews for our products, we can also get reviews data from \n",
    "social media like twitter, facebook etc, and also from the product's original site."
   ]
  },
  {
   "cell_type": "markdown",
   "metadata": {},
   "source": [
    "### How your data were created?\n",
    "The data is created from the users who used the product previously. The reviews from them is primary source for us. We will be using web scraping for generating/extracting raw dataset from e-commerce sites."
   ]
  },
  {
   "cell_type": "markdown",
   "metadata": {},
   "source": [
    "### What sort of access rights presently exist on your data and how/if you will make them available?\n",
    "We can extract information from e-commerce sites. But few sites are encrypted so we are working to get it better.\n"
   ]
  },
  {
   "cell_type": "markdown",
   "metadata": {},
   "source": [
    "### Plan for acquiring the data:\n",
    "\n",
    "Initially we tried to extract the basic data using web scraping by python as below:\n",
    "\n",
    "We will automate to run the script several times to extract all the data from the sites.\n"
   ]
  },
  {
   "cell_type": "code",
   "execution_count": 4,
   "metadata": {},
   "outputs": [
    {
     "name": "stdout",
     "output_type": "stream",
     "text": [
      "['Apple MacBook Air Core i5 5th Gen - (8 GB/128 GB SSD/Mac OS Sierra) MQD32HN/A A1466', 'HP Core i5 7th Gen - (8 GB/1 TB HDD/Windows 10 Home/4 GB Graphics) 15-au623tx Laptop', 'Lenovo Core i3 6th Gen - (4 GB/1 TB HDD/Windows 10 Home) IP 320E Laptop', 'Lenovo Ideapad Core i3 6th Gen - (4 GB/1 TB HDD/DOS) IP 320E Laptop', 'Lenovo Yoga 510 Core i3 6th Gen - (4 GB/1 TB HDD/Windows 10 Home) Yoga 510 2 in 1 Laptop', 'Lenovo Ideapad Core i5 7th Gen - (8 GB/1 TB HDD/Windows 10 Home/2 GB Graphics) IP 320-15IKB Laptop', 'Lenovo Core i5 7th Gen - (8 GB/2 TB HDD/Windows 10 Home/4 GB Graphics) IP 520 Laptop', 'Lenovo Core i5 7th Gen - (8 GB/1 TB HDD/DOS/2 GB Graphics) IP 320-15IKB Laptop']\n",
      "['₹57,990', '₹63,854', '₹29,999', '₹32,990', '₹38,490', '₹52,990', '₹75,500', '₹52,990']\n",
      "['4.7', '4.4', '4', '4.1', '4.1', '4.3', '4.4', '4.3']\n"
     ]
    }
   ],
   "source": [
    "import urllib3\n",
    "import requests\n",
    "from selenium import webdriver\n",
    "from bs4 import BeautifulSoup\n",
    "import pandas as pd\n",
    "products=[] #List to store name of the product\n",
    "prices=[] #List to store price of the product\n",
    "ratings=[] #List to store rating of the product\n",
    "page = requests.get(\"https://www.flipkart.com/laptops/~buyback-guarantee-on-laptops-/pr?sid=6bo%2Cb5g&amp;amp;amp;uniq\")\n",
    "soup = BeautifulSoup(page.content, 'html.parser')\n",
    "for a in soup.findAll('a',href=True, attrs={'class':'_31qSD5'}):\n",
    "    name=a.find('div', attrs={'class':'_3wU53n'})\n",
    "    price=a.find('div', attrs={'class':'_1vC4OE _2rQ-NK'})\n",
    "    rating=a.find('div', attrs={'class':'hGSR34'})\n",
    "    products.append(name.text)\n",
    "    prices.append(price.text)\n",
    "    ratings.append(rating.text)\n",
    "print(products)\n",
    "print(prices)\n",
    "print(ratings)"
   ]
  }
 ],
 "metadata": {
  "kernelspec": {
   "display_name": "Python 3",
   "language": "python",
   "name": "python3"
  },
  "language_info": {
   "codemirror_mode": {
    "name": "ipython",
    "version": 3
   },
   "file_extension": ".py",
   "mimetype": "text/x-python",
   "name": "python",
   "nbconvert_exporter": "python",
   "pygments_lexer": "ipython3",
   "version": "3.7.4"
  }
 },
 "nbformat": 4,
 "nbformat_minor": 2
}
